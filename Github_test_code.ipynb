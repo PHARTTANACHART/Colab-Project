{
  "nbformat": 4,
  "nbformat_minor": 0,
  "metadata": {
    "colab": {
      "name": "Github test code.ipynb",
      "provenance": []
    },
    "kernelspec": {
      "name": "python3",
      "display_name": "Python 3"
    }
  },
  "cells": [
    {
      "cell_type": "code",
      "metadata": {
        "id": "-bbRknHIuBY1",
        "colab_type": "code",
        "outputId": "38c8f7ab-ddd9-4dae-b210-8821172d84a9",
        "colab": {
          "base_uri": "https://localhost:8080/",
          "height": 34
        }
      },
      "source": [
        "'''money =  5223.255\n",
        "account = 3\n",
        "print('I have money {1:,.2f} baht\\nI have in wallet {0:,d}'.format(money, account))''' "
      ],
      "execution_count": 0,
      "outputs": [
        {
          "output_type": "execute_result",
          "data": {
            "text/plain": [
              "\"money =  5223.255\\naccount = 3\\nprint('I have money {1:,.2f} baht\\nI have in wallet {0:,d}'.format(money, account))\""
            ]
          },
          "metadata": {
            "tags": []
          },
          "execution_count": 4
        }
      ]
    },
    {
      "cell_type": "code",
      "metadata": {
        "id": "dfeSKkPJuKWG",
        "colab_type": "code",
        "colab": {}
      },
      "source": [
        ""
      ],
      "execution_count": 0,
      "outputs": []
    }
  ]
}